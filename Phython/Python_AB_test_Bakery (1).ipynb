{
 "cells": [
  {
   "cell_type": "markdown",
   "metadata": {},
   "source": [
    "## A/B testing of the new visual content of the Bakery\n",
    " 👨🏻‍🍳🥨🥐🥖\n",
    "\n",
    "\n",
    "The project involves A/B testing of new visual content, which includes adding product production videos and extra images. \n",
    "The main goal of the project is to increase order conversion by improving the visual presentation of products on the website pages.\n",
    "\n",
    "*1. `Business problem:`* it is assumed that conversions from visit to purchase in our bakery are not high enough.\n",
    "Having studied competitors' pages and it is clear that there is an opportunity to increase sales by slightly redesigning the product catalogue page. \n",
    "\n",
    "*2. `Hypothesis:`* adding a video of the process of making goodies is supposed to motivate customers to buy them and achieve two effects:\n",
    "   * an increase in conversion from visit to payment (more clients will want to buy our products)\n",
    "   * at a minimum, no decrease in the average purchase value, and ideally, an increase in the average purchase value\n",
    "    \n",
    "*3. `Expected actions of clients:`* it is expected that by seeing a video of the process of making the goodies along with a description of the products, more potential customers will want to make a purchase, and possibly - on average - buy more products in one order.\n",
    "\n",
    "*4. `The experiment will be assumed succsesfull, if:`*\n",
    "   * conversition from visit to purchase with a window of 7 days will increase \n",
    "   * the average purchase value will not decrease\n",
    "\n",
    "\n",
    "## What needs to be done?\n",
    "\n",
    "Analyse the data from the new test and make an assumption about its success. Can the change be deployed to all users?\n",
    "\n",
    "1. Select a conversion window.\n",
    "2. Analyse the distribution of users into groups by main segments.\n",
    "3. Evaluate statistical significance in the conversion change using the chi-square criterion.\n",
    "4. Calculate the power of the test.\n",
    "5. Use bootstrap to evaluate the effect of the test on the average cheque.\n",
    "6. Draw a conclusion from the results of the test."
   ]
  },
  {
   "cell_type": "code",
   "execution_count": 3,
   "metadata": {},
   "outputs": [],
   "source": [
    "import pandas as pd\n",
    "import numpy as np"
   ]
  },
  {
   "cell_type": "code",
   "execution_count": 4,
   "metadata": {
    "id": "Sk2xONPmbL0x"
   },
   "outputs": [],
   "source": [
    "historical_data = pd.read_csv('investigate_window.csv')"
   ]
  },
  {
   "cell_type": "code",
   "execution_count": 5,
   "metadata": {
    "id": "dS3UJGDhbL0x",
    "outputId": "4d8207fa-32d3-44f3-de6f-072b393742b4"
   },
   "outputs": [
    {
     "data": {
      "text/html": [
       "<div>\n",
       "<style scoped>\n",
       "    .dataframe tbody tr th:only-of-type {\n",
       "        vertical-align: middle;\n",
       "    }\n",
       "\n",
       "    .dataframe tbody tr th {\n",
       "        vertical-align: top;\n",
       "    }\n",
       "\n",
       "    .dataframe thead th {\n",
       "        text-align: right;\n",
       "    }\n",
       "</style>\n",
       "<table border=\"1\" class=\"dataframe\">\n",
       "  <thead>\n",
       "    <tr style=\"text-align: right;\">\n",
       "      <th></th>\n",
       "      <th>Unnamed: 0</th>\n",
       "      <th>user_id</th>\n",
       "      <th>main_page_viewed_at</th>\n",
       "      <th>order_completed_at</th>\n",
       "      <th>time_to_order</th>\n",
       "    </tr>\n",
       "  </thead>\n",
       "  <tbody>\n",
       "    <tr>\n",
       "      <th>0</th>\n",
       "      <td>0</td>\n",
       "      <td>959238</td>\n",
       "      <td>2020-11-20 23:55:02.759000+00:00</td>\n",
       "      <td>2020-11-30 02:22:32.759000+00:00</td>\n",
       "      <td>9.102431</td>\n",
       "    </tr>\n",
       "    <tr>\n",
       "      <th>1</th>\n",
       "      <td>1</td>\n",
       "      <td>337366</td>\n",
       "      <td>2020-12-05 23:41:42.244000+00:00</td>\n",
       "      <td>2020-12-12 22:25:52.244000+00:00</td>\n",
       "      <td>6.947338</td>\n",
       "    </tr>\n",
       "    <tr>\n",
       "      <th>2</th>\n",
       "      <td>2</td>\n",
       "      <td>259956</td>\n",
       "      <td>2020-11-20 23:33:53.269000+00:00</td>\n",
       "      <td>2020-11-25 13:08:03.269000+00:00</td>\n",
       "      <td>4.565394</td>\n",
       "    </tr>\n",
       "    <tr>\n",
       "      <th>3</th>\n",
       "      <td>3</td>\n",
       "      <td>534280</td>\n",
       "      <td>2020-11-28 23:44:56.556000+00:00</td>\n",
       "      <td>2020-12-05 10:14:06.556000+00:00</td>\n",
       "      <td>6.436921</td>\n",
       "    </tr>\n",
       "    <tr>\n",
       "      <th>4</th>\n",
       "      <td>4</td>\n",
       "      <td>795121</td>\n",
       "      <td>2020-11-18 23:59:56.236000+00:00</td>\n",
       "      <td>2020-11-27 02:38:16.236000+00:00</td>\n",
       "      <td>8.109954</td>\n",
       "    </tr>\n",
       "  </tbody>\n",
       "</table>\n",
       "</div>"
      ],
      "text/plain": [
       "   Unnamed: 0  user_id               main_page_viewed_at  \\\n",
       "0           0   959238  2020-11-20 23:55:02.759000+00:00   \n",
       "1           1   337366  2020-12-05 23:41:42.244000+00:00   \n",
       "2           2   259956  2020-11-20 23:33:53.269000+00:00   \n",
       "3           3   534280  2020-11-28 23:44:56.556000+00:00   \n",
       "4           4   795121  2020-11-18 23:59:56.236000+00:00   \n",
       "\n",
       "                 order_completed_at  time_to_order  \n",
       "0  2020-11-30 02:22:32.759000+00:00       9.102431  \n",
       "1  2020-12-12 22:25:52.244000+00:00       6.947338  \n",
       "2  2020-11-25 13:08:03.269000+00:00       4.565394  \n",
       "3  2020-12-05 10:14:06.556000+00:00       6.436921  \n",
       "4  2020-11-27 02:38:16.236000+00:00       8.109954  "
      ]
     },
     "execution_count": 5,
     "metadata": {},
     "output_type": "execute_result"
    }
   ],
   "source": [
    "historical_data.head()"
   ]
  },
  {
   "cell_type": "code",
   "execution_count": 6,
   "metadata": {
    "id": "Xef2_8M4bL0z",
    "outputId": "e7204528-c53d-4ddc-8149-27040c3f23ed"
   },
   "outputs": [
    {
     "data": {
      "text/plain": [
       "user_id                              int64\n",
       "main_page_viewed_at    datetime64[ns, UTC]\n",
       "order_completed_at     datetime64[ns, UTC]\n",
       "time_to_order                      float64\n",
       "dtype: object"
      ]
     },
     "execution_count": 6,
     "metadata": {},
     "output_type": "execute_result"
    }
   ],
   "source": [
    "historical_data = pd.read_csv('investigate_window.csv', parse_dates = [2,3], index_col = 0)\n",
    "historical_data.dtypes"
   ]
  },
  {
   "cell_type": "markdown",
   "metadata": {},
   "source": [
    "## 1. Calculate the 95, 90 and 85 percentiles for our data using the column time_to_order."
   ]
  },
  {
   "cell_type": "code",
   "execution_count": 7,
   "metadata": {
    "id": "5uiFILNtbL01"
   },
   "outputs": [],
   "source": [
    "import numpy as np"
   ]
  },
  {
   "cell_type": "code",
   "execution_count": 8,
   "metadata": {
    "id": "z0Ie-hfKbL02"
   },
   "outputs": [],
   "source": [
    "import seaborn as sns \n",
    "import matplotlib.pyplot as plt"
   ]
  },
  {
   "cell_type": "code",
   "execution_count": 9,
   "metadata": {
    "id": "UMNd1kw3bL03"
   },
   "outputs": [
    {
     "data": {
      "text/plain": [
       "7.117476851851854"
      ]
     },
     "execution_count": 9,
     "metadata": {},
     "output_type": "execute_result"
    }
   ],
   "source": [
    "perc_95 = np.percentile(historical_data['time_to_order'], 95) \n",
    "perc_95"
   ]
  },
  {
   "cell_type": "code",
   "execution_count": 10,
   "metadata": {},
   "outputs": [
    {
     "data": {
      "text/plain": [
       "2.864949845679016"
      ]
     },
     "execution_count": 10,
     "metadata": {},
     "output_type": "execute_result"
    }
   ],
   "source": [
    "perc_90 = np.percentile(historical_data['time_to_order'], 90)\n",
    "perc_90"
   ]
  },
  {
   "cell_type": "code",
   "execution_count": 11,
   "metadata": {},
   "outputs": [
    {
     "data": {
      "text/plain": [
       "1.9903886959876524"
      ]
     },
     "execution_count": 11,
     "metadata": {},
     "output_type": "execute_result"
    }
   ],
   "source": [
    "perc_85 = np.percentile(historical_data['time_to_order'], 85)\n",
    "perc_85"
   ]
  },
  {
   "cell_type": "markdown",
   "metadata": {},
   "source": [
    "## 2. The building a histogram of the distribution of time between the first visit to the site and purchase"
   ]
  },
  {
   "cell_type": "code",
   "execution_count": 12,
   "metadata": {
    "scrolled": true
   },
   "outputs": [],
   "source": [
    "perc_85 = round(np.percentile(historical_data['time_to_order'], 85), 1)"
   ]
  },
  {
   "cell_type": "code",
   "execution_count": 13,
   "metadata": {
    "scrolled": false
   },
   "outputs": [
    {
     "data": {
      "image/png": "[encoded data removed]",
      "text/plain": [
       "<Figure size 1600x900 with 1 Axes>"
      ]
     },
     "metadata": {},
     "output_type": "display_data"
    }
   ],
   "source": [
    "plt.figure(figsize=(16,9))\n",
    "sns.histplot(historical_data['time_to_order'])\n",
    "plt.vlines(perc_85, ymin = 0, ymax = 0.7, linestyles = 'dashed', label = f'85th percentile – {perc_85} days')\n",
    "plt.title('Time  between the first visit to the site and purchase')\n",
    "plt.xlabel('The number of days')\n",
    "plt.ylabel('The number of customers')\n",
    "plt.legend(loc='center right')\n",
    "plt.show()"
   ]
  },
  {
   "cell_type": "markdown",
   "metadata": {},
   "source": [
    "### Research the distribution of users into groups by major segments"
   ]
  },
  {
   "cell_type": "code",
   "execution_count": 14,
   "metadata": {
    "id": "-l6Y90j6bL03"
   },
   "outputs": [
    {
     "data": {
      "text/html": [
       "<div>\n",
       "<style scoped>\n",
       "    .dataframe tbody tr th:only-of-type {\n",
       "        vertical-align: middle;\n",
       "    }\n",
       "\n",
       "    .dataframe tbody tr th {\n",
       "        vertical-align: top;\n",
       "    }\n",
       "\n",
       "    .dataframe thead th {\n",
       "        text-align: right;\n",
       "    }\n",
       "</style>\n",
       "<table border=\"1\" class=\"dataframe\">\n",
       "  <thead>\n",
       "    <tr style=\"text-align: right;\">\n",
       "      <th></th>\n",
       "      <th>user_id</th>\n",
       "      <th>test_group</th>\n",
       "      <th>purchase_amount</th>\n",
       "      <th>geo_group</th>\n",
       "      <th>acquisition_channel</th>\n",
       "      <th>within_window</th>\n",
       "      <th>platform</th>\n",
       "    </tr>\n",
       "  </thead>\n",
       "  <tbody>\n",
       "    <tr>\n",
       "      <th>1</th>\n",
       "      <td>3738</td>\n",
       "      <td>test</td>\n",
       "      <td>306.639511</td>\n",
       "      <td>regions</td>\n",
       "      <td>target_direct</td>\n",
       "      <td>1</td>\n",
       "      <td>pc</td>\n",
       "    </tr>\n",
       "    <tr>\n",
       "      <th>2</th>\n",
       "      <td>3755</td>\n",
       "      <td>control</td>\n",
       "      <td>NaN</td>\n",
       "      <td>regions</td>\n",
       "      <td>target_direct</td>\n",
       "      <td>0</td>\n",
       "      <td>pc</td>\n",
       "    </tr>\n",
       "    <tr>\n",
       "      <th>3</th>\n",
       "      <td>3772</td>\n",
       "      <td>test</td>\n",
       "      <td>NaN</td>\n",
       "      <td>regions</td>\n",
       "      <td>context_brand</td>\n",
       "      <td>0</td>\n",
       "      <td>mobile</td>\n",
       "    </tr>\n",
       "    <tr>\n",
       "      <th>4</th>\n",
       "      <td>3789</td>\n",
       "      <td>control</td>\n",
       "      <td>NaN</td>\n",
       "      <td>spb</td>\n",
       "      <td>target_direct</td>\n",
       "      <td>0</td>\n",
       "      <td>pc</td>\n",
       "    </tr>\n",
       "    <tr>\n",
       "      <th>5</th>\n",
       "      <td>3806</td>\n",
       "      <td>test</td>\n",
       "      <td>NaN</td>\n",
       "      <td>regions</td>\n",
       "      <td>social_media</td>\n",
       "      <td>0</td>\n",
       "      <td>pc</td>\n",
       "    </tr>\n",
       "    <tr>\n",
       "      <th>...</th>\n",
       "      <td>...</td>\n",
       "      <td>...</td>\n",
       "      <td>...</td>\n",
       "      <td>...</td>\n",
       "      <td>...</td>\n",
       "      <td>...</td>\n",
       "      <td>...</td>\n",
       "    </tr>\n",
       "    <tr>\n",
       "      <th>152995</th>\n",
       "      <td>2604636</td>\n",
       "      <td>test</td>\n",
       "      <td>NaN</td>\n",
       "      <td>regions</td>\n",
       "      <td>target_direct</td>\n",
       "      <td>0</td>\n",
       "      <td>pc</td>\n",
       "    </tr>\n",
       "    <tr>\n",
       "      <th>152996</th>\n",
       "      <td>2604653</td>\n",
       "      <td>control</td>\n",
       "      <td>5236.818309</td>\n",
       "      <td>regions</td>\n",
       "      <td>organic</td>\n",
       "      <td>1</td>\n",
       "      <td>mobile</td>\n",
       "    </tr>\n",
       "    <tr>\n",
       "      <th>152997</th>\n",
       "      <td>2604670</td>\n",
       "      <td>control</td>\n",
       "      <td>NaN</td>\n",
       "      <td>regions</td>\n",
       "      <td>target_direct</td>\n",
       "      <td>0</td>\n",
       "      <td>pc</td>\n",
       "    </tr>\n",
       "    <tr>\n",
       "      <th>152998</th>\n",
       "      <td>2604687</td>\n",
       "      <td>control</td>\n",
       "      <td>101.783032</td>\n",
       "      <td>regions</td>\n",
       "      <td>target_direct</td>\n",
       "      <td>1</td>\n",
       "      <td>pc</td>\n",
       "    </tr>\n",
       "    <tr>\n",
       "      <th>152999</th>\n",
       "      <td>2604704</td>\n",
       "      <td>test</td>\n",
       "      <td>NaN</td>\n",
       "      <td>msk</td>\n",
       "      <td>social_media</td>\n",
       "      <td>0</td>\n",
       "      <td>pc</td>\n",
       "    </tr>\n",
       "  </tbody>\n",
       "</table>\n",
       "<p>150483 rows × 7 columns</p>\n",
       "</div>"
      ],
      "text/plain": [
       "        user_id test_group  purchase_amount geo_group acquisition_channel  \\\n",
       "1          3738       test       306.639511   regions       target_direct   \n",
       "2          3755    control              NaN   regions       target_direct   \n",
       "3          3772       test              NaN   regions       context_brand   \n",
       "4          3789    control              NaN       spb       target_direct   \n",
       "5          3806       test              NaN   regions        social_media   \n",
       "...         ...        ...              ...       ...                 ...   \n",
       "152995  2604636       test              NaN   regions       target_direct   \n",
       "152996  2604653    control      5236.818309   regions             organic   \n",
       "152997  2604670    control              NaN   regions       target_direct   \n",
       "152998  2604687    control       101.783032   regions       target_direct   \n",
       "152999  2604704       test              NaN       msk        social_media   \n",
       "\n",
       "        within_window platform  \n",
       "1                   1       pc  \n",
       "2                   0       pc  \n",
       "3                   0   mobile  \n",
       "4                   0       pc  \n",
       "5                   0       pc  \n",
       "...               ...      ...  \n",
       "152995              0       pc  \n",
       "152996              1   mobile  \n",
       "152997              0       pc  \n",
       "152998              1       pc  \n",
       "152999              0       pc  \n",
       "\n",
       "[150483 rows x 7 columns]"
      ]
     },
     "execution_count": 14,
     "metadata": {},
     "output_type": "execute_result"
    }
   ],
   "source": [
    "import pandas as pd\n",
    "import numpy as np\n",
    "\n",
    "bakery_data = pd.read_csv('bakery_ab_test.csv', index_col=0)\n",
    "bakery_data"
   ]
  },
  {
   "cell_type": "code",
   "execution_count": 15,
   "metadata": {},
   "outputs": [
    {
     "name": "stdout",
     "output_type": "stream",
     "text": [
      "test       75273\n",
      "control    75210\n",
      "Name: test_group, dtype: int64\n",
      "target_direct    71365\n",
      "organic          45394\n",
      "social_media     19385\n",
      "context_brand    14339\n",
      "Name: acquisition_channel, dtype: int64\n"
     ]
    }
   ],
   "source": [
    "group_cnt = bakery_data['test_group'].value_counts()\n",
    "channel_cnt = bakery_data['acquisition_channel'].value_counts()\n",
    "\n",
    "print(group_cnt)\n",
    "print(channel_cnt)"
   ]
  },
  {
   "cell_type": "code",
   "execution_count": 19,
   "metadata": {
    "id": "XJowVpQjbL04"
   },
   "outputs": [
    {
     "data": {
      "image/png": "[encoded data removed]",
      "text/plain": [
       "<Figure size 1200x600 with 2 Axes>"
      ]
     },
     "metadata": {},
     "output_type": "display_data"
    }
   ],
   "source": [
    "# A function \"plot_segment_distribution\" uses to check the distribution of users across segments within each group and \n",
    "# aggregates the data for each segment in the function, counting the number of users for each group and segment.\n",
    "\n",
    "import seaborn as sns\n",
    "import matplotlib.pyplot as plt\n",
    "\n",
    "def plot_segment_distribution(bakery_data, segment_columns, test_factor):\n",
    "    fig, axs = plt.subplots(1, 2, figsize=(12, 6))\n",
    "    for i, segment in enumerate(segment_columns):\n",
    "        aggregated_data = bakery_data.groupby(by=[test_factor, segment])['user_id'].count().reset_index()\n",
    "        sns.barplot(x=segment, \n",
    "                    y='user_id', \n",
    "                    hue=test_factor, \n",
    "                    data=aggregated_data, \n",
    "                    ax=axs[i],\n",
    "                    palette='husl')\n",
    "        axs[i].set_title(f'Distribution by {segment}')\n",
    "        axs[i].set_xlabel(segment)\n",
    "        axs[i].set_ylabel('Count')\n",
    "    plt.tight_layout()\n",
    "    plt.show()\n",
    "\n",
    "    \n",
    "plot_segment_distribution(bakery_data, ['geo_group', 'acquisition_channel'], \n",
    "                                        'test_group')\n",
    "     \n",
    "        "
   ]
  },
  {
   "cell_type": "markdown",
   "metadata": {},
   "source": [
    "#### The graph shows that the number of users in the control and test groups within each segment: \"geo_group\" and \"acquisition_channel\" is approximately the same, which indicates a good split quality and even distribution of data between the control and test groups, which makes the comparison of A/B testing results more objective and reliable."
   ]
  },
  {
   "cell_type": "markdown",
   "metadata": {},
   "source": [
    "## 3. Assessment of statistical significance of differences between control and test groups"
   ]
  },
  {
   "cell_type": "code",
   "execution_count": 20,
   "metadata": {
    "id": "yicAUBtnbL07"
   },
   "outputs": [
    {
     "data": {
      "text/html": [
       "<div>\n",
       "<style scoped>\n",
       "    .dataframe tbody tr th:only-of-type {\n",
       "        vertical-align: middle;\n",
       "    }\n",
       "\n",
       "    .dataframe tbody tr th {\n",
       "        vertical-align: top;\n",
       "    }\n",
       "\n",
       "    .dataframe thead th {\n",
       "        text-align: right;\n",
       "    }\n",
       "</style>\n",
       "<table border=\"1\" class=\"dataframe\">\n",
       "  <thead>\n",
       "    <tr style=\"text-align: right;\">\n",
       "      <th></th>\n",
       "      <th>test_group</th>\n",
       "      <th>user_id</th>\n",
       "      <th>within_window</th>\n",
       "      <th>conversion</th>\n",
       "    </tr>\n",
       "  </thead>\n",
       "  <tbody>\n",
       "    <tr>\n",
       "      <th>0</th>\n",
       "      <td>control</td>\n",
       "      <td>75210</td>\n",
       "      <td>22998</td>\n",
       "      <td>30.58</td>\n",
       "    </tr>\n",
       "    <tr>\n",
       "      <th>1</th>\n",
       "      <td>test</td>\n",
       "      <td>75273</td>\n",
       "      <td>24427</td>\n",
       "      <td>32.45</td>\n",
       "    </tr>\n",
       "  </tbody>\n",
       "</table>\n",
       "</div>"
      ],
      "text/plain": [
       "  test_group  user_id  within_window  conversion\n",
       "0    control    75210          22998       30.58\n",
       "1       test    75273          24427       32.45"
      ]
     },
     "execution_count": 20,
     "metadata": {},
     "output_type": "execute_result"
    }
   ],
   "source": [
    "# To assess the statistical significance of differences between the control and test groups on the categorical variable - conversion, \n",
    "# I use the Chi-square criterion.\n",
    "\n",
    "# The total numbers of customers\n",
    "users_cnt = bakery_data.groupby('test_group').size().reset_index(name='users_cnt')\n",
    "\n",
    "# Number of purchases in the conversion window \n",
    "conver_cnt = bakery_data.loc[bakery_data['within_window']==1].groupby('test_group')['user_id'].nunique().reset_index(name='conver_cnt')\n",
    "\n",
    "# Average amount of purchase\n",
    "mean_purchase_value = bakery_data.groupby('test_group')['purchase_amount'].mean().reset_index(name='mean_purchase_value')\n",
    "\n",
    "# Conversion \n",
    "metrics = bakery_data.groupby('test_group')['within_window'].mean().reset_index(name='conversion')\n",
    "metrics = bakery_data.groupby('test_group', as_index= 0).agg({'user_id': 'count', 'within_window': 'sum'})\n",
    "metrics['conversion'] = round(metrics['within_window']/metrics['user_id']*100, 2)\n",
    "metrics"
   ]
  },
  {
   "cell_type": "code",
   "execution_count": 21,
   "metadata": {
    "id": "dAdU8YspbL07"
   },
   "outputs": [
    {
     "data": {
      "text/html": [
       "<div>\n",
       "<style scoped>\n",
       "    .dataframe tbody tr th:only-of-type {\n",
       "        vertical-align: middle;\n",
       "    }\n",
       "\n",
       "    .dataframe tbody tr th {\n",
       "        vertical-align: top;\n",
       "    }\n",
       "\n",
       "    .dataframe thead th {\n",
       "        text-align: right;\n",
       "    }\n",
       "</style>\n",
       "<table border=\"1\" class=\"dataframe\">\n",
       "  <thead>\n",
       "    <tr style=\"text-align: right;\">\n",
       "      <th></th>\n",
       "      <th>test_group</th>\n",
       "      <th>user_id</th>\n",
       "      <th>within_window</th>\n",
       "      <th>conversion</th>\n",
       "    </tr>\n",
       "  </thead>\n",
       "  <tbody>\n",
       "    <tr>\n",
       "      <th>0</th>\n",
       "      <td>control</td>\n",
       "      <td>45112</td>\n",
       "      <td>13732</td>\n",
       "      <td>30.44</td>\n",
       "    </tr>\n",
       "    <tr>\n",
       "      <th>1</th>\n",
       "      <td>test</td>\n",
       "      <td>60317</td>\n",
       "      <td>19659</td>\n",
       "      <td>32.59</td>\n",
       "    </tr>\n",
       "  </tbody>\n",
       "</table>\n",
       "</div>"
      ],
      "text/plain": [
       "  test_group  user_id  within_window  conversion\n",
       "0    control    45112          13732       30.44\n",
       "1       test    60317          19659       32.59"
      ]
     },
     "execution_count": 21,
     "metadata": {},
     "output_type": "execute_result"
    }
   ],
   "source": [
    "\n",
    "pc_users = bakery_data.loc[bakery_data['platform'] == 'pc']\n",
    "\n",
    "# The total numbers of customers from platform = 'pc'\n",
    "users_cnt_pc = pc_users.groupby('test_group').size().reset_index(name='users_cnt')\n",
    "\n",
    "# Number of purchases in the conversion window users of the 'pc' platform\n",
    "conver_cnt_pc = pc_users.loc[pc_users['within_window'] == 1].groupby('test_group')['user_id'].nunique().reset_index(name='conver_cnt')\n",
    "\n",
    "# Average amount of purchase users of the 'pc' platform\n",
    "mean_purchase_value_pc = pc_users.groupby('test_group')['purchase_amount'].mean().reset_index(name='mean_purchase_value')\n",
    "\n",
    "# Conversion from 'pc' platform\n",
    "metrics_pc = pc_users.groupby('test_group')['within_window'].mean().reset_index(name='conversion')\n",
    "metrics_pc = pc_users.groupby('test_group', as_index=0).agg({'user_id': 'count', 'within_window': 'sum'})\n",
    "metrics_pc['conversion'] = round(metrics_pc['within_window'] / metrics_pc['user_id'] * 100, 2)\n",
    "metrics_pc\n"
   ]
  },
  {
   "cell_type": "code",
   "execution_count": 22,
   "metadata": {
    "id": "j1bGG9yrbL08"
   },
   "outputs": [
    {
     "data": {
      "text/html": [
       "<div>\n",
       "<style scoped>\n",
       "    .dataframe tbody tr th:only-of-type {\n",
       "        vertical-align: middle;\n",
       "    }\n",
       "\n",
       "    .dataframe tbody tr th {\n",
       "        vertical-align: top;\n",
       "    }\n",
       "\n",
       "    .dataframe thead th {\n",
       "        text-align: right;\n",
       "    }\n",
       "</style>\n",
       "<table border=\"1\" class=\"dataframe\">\n",
       "  <thead>\n",
       "    <tr style=\"text-align: right;\">\n",
       "      <th></th>\n",
       "      <th>test_group</th>\n",
       "      <th>user_id</th>\n",
       "      <th>within_window</th>\n",
       "      <th>conversion</th>\n",
       "    </tr>\n",
       "  </thead>\n",
       "  <tbody>\n",
       "    <tr>\n",
       "      <th>0</th>\n",
       "      <td>control</td>\n",
       "      <td>30098</td>\n",
       "      <td>9266</td>\n",
       "      <td>30.79</td>\n",
       "    </tr>\n",
       "    <tr>\n",
       "      <th>1</th>\n",
       "      <td>test</td>\n",
       "      <td>14956</td>\n",
       "      <td>4768</td>\n",
       "      <td>31.88</td>\n",
       "    </tr>\n",
       "  </tbody>\n",
       "</table>\n",
       "</div>"
      ],
      "text/plain": [
       "  test_group  user_id  within_window  conversion\n",
       "0    control    30098           9266       30.79\n",
       "1       test    14956           4768       31.88"
      ]
     },
     "execution_count": 22,
     "metadata": {},
     "output_type": "execute_result"
    }
   ],
   "source": [
    "\n",
    "mobile_users = bakery_data.loc[bakery_data['platform'] == 'mobile']\n",
    "\n",
    "# The total numbers of customers from platform = 'mobile'\n",
    "users_cnt_mobile = mobile_users.groupby('test_group').size().reset_index(name='users_cnt')\n",
    "\n",
    "# Number of purchases in the conversion window users of the 'mobile' platform\n",
    "conver_cnt_mobile = mobile_users.loc[mobile_users['within_window'] == 1].groupby('test_group')['user_id'].nunique().reset_index(name='conver_cnt')\n",
    "\n",
    "# Average amount of purchase users of the 'mobile' platform\n",
    "mean_purchase_value_mobile = mobile_users.groupby('test_group')['purchase_amount'].mean().reset_index(name='mean_purchase_value')\n",
    "\n",
    "# Conversion from 'mobile' platform\n",
    "metrics_mobile = mobile_users.groupby('test_group')['within_window'].mean().reset_index(name='conversion')\n",
    "metrics_mobile = mobile_users.groupby('test_group', as_index=0).agg({'user_id': 'count', 'within_window': 'sum'})\n",
    "metrics_mobile['conversion'] = round(metrics_mobile['within_window'] / metrics_mobile['user_id'] * 100, 2)\n",
    "metrics_mobile\n"
   ]
  },
  {
   "cell_type": "markdown",
   "metadata": {},
   "source": [
    "## 4. Chi-square test for calculating p-value"
   ]
  },
  {
   "cell_type": "code",
   "execution_count": 23,
   "metadata": {
    "id": "Q5J-6Z54bL08"
   },
   "outputs": [],
   "source": [
    "import statsmodels.stats.proportion as proportion"
   ]
  },
  {
   "cell_type": "code",
   "execution_count": 24,
   "metadata": {
    "id": "_w0kri_PbL0-"
   },
   "outputs": [],
   "source": [
    "chi2stat, pval, table = proportion.proportions_chisquare(metrics['conversion'], metrics['user_id'])"
   ]
  },
  {
   "cell_type": "code",
   "execution_count": 25,
   "metadata": {},
   "outputs": [
    {
     "name": "stdout",
     "output_type": "stream",
     "text": [
      "hi2stat =  0.05394782473474283\n",
      "pval =  0.8163308667537793\n",
      "table =  (array([[3.058000e+01, 7.517942e+04],\n",
      "       [3.245000e+01, 7.524055e+04]]), array([[3.15018062e+01, 7.51784982e+04],\n",
      "       [3.15281938e+01, 7.52414718e+04]]))\n"
     ]
    }
   ],
   "source": [
    "print('hi2stat = ',chi2stat)\n",
    "print('pval = ',pval)\n",
    "print('table = ',table)"
   ]
  },
  {
   "cell_type": "code",
   "execution_count": 26,
   "metadata": {
    "id": "WZHc1CEHbL0-"
   },
   "outputs": [
    {
     "name": "stdout",
     "output_type": "stream",
     "text": [
      "chi2stat_pc =  0.780881781090049\n",
      "pval_pc = 0.3768715954060702\n",
      "table_pc =  (array([[3.044000e+01, 4.508156e+04],\n",
      "       [3.259000e+01, 6.028441e+04]]), array([[2.69698978e+01, 4.50850301e+04],\n",
      "       [3.60601022e+01, 6.02809399e+04]]))\n"
     ]
    }
   ],
   "source": [
    "chi2stat_pc, pval_pc, table_pc = proportion.proportions_chisquare(metrics_pc['conversion'], metrics_pc['user_id'])\n",
    "print('chi2stat_pc = ',chi2stat_pc)\n",
    "print('pval_pc =',pval_pc)\n",
    "print('table_pc = ',table_pc)"
   ]
  },
  {
   "cell_type": "code",
   "execution_count": 27,
   "metadata": {
    "id": "hu9CH3VFbL0_"
   },
   "outputs": [
    {
     "name": "stdout",
     "output_type": "stream",
     "text": [
      "chi2stat_mobile =  8.839817579905878\n",
      "pval_mobile = 0.0029472860301175247\n",
      "table_mobile =  (array([[   30.79, 30067.21],\n",
      "       [   31.88, 14924.12]]), array([[4.18662418e+01, 3.00561338e+04],\n",
      "       [2.08037582e+01, 1.49351962e+04]]))\n"
     ]
    }
   ],
   "source": [
    "chi2stat_mobile, pval_mobile, table_mobile = proportion.proportions_chisquare(metrics_mobile['conversion'], metrics_mobile['user_id'])\n",
    "print('chi2stat_mobile = ',chi2stat_mobile)\n",
    "print('pval_mobile =',pval_mobile)\n",
    "print('table_mobile = ',table_mobile)"
   ]
  },
  {
   "cell_type": "code",
   "execution_count": 28,
   "metadata": {
    "id": "YRT0d5F4bL0_"
   },
   "outputs": [],
   "source": [
    "\n",
    "# alpha is pre-determined significance level \n",
    "\n",
    "alpha = 0.05 "
   ]
  },
  {
   "cell_type": "code",
   "execution_count": 29,
   "metadata": {},
   "outputs": [
    {
     "name": "stdout",
     "output_type": "stream",
     "text": [
      "No statistically significant difference in conversion was found as the p-value is above the selected threshold of first-order  error\n"
     ]
    }
   ],
   "source": [
    "if pval < alpha: \n",
    "    print('The result of the experiment can be considered statistically significant')\n",
    "elif pval > alpha: \n",
    "    print('No statistically significant difference in conversion was found as the p-value is above the selected threshold of first-order  error')"
   ]
  },
  {
   "cell_type": "markdown",
   "metadata": {},
   "source": [
    "#### CONCLUSION: Since NO statistical significance was found between the conversions and the p-value exceeds the chosen threshold of first-order error, it is not possible to reject the null hypothesis that there is no statistically significant difference between the groups. In this case, the null hypothesis of equality of mean conversions is accepted."
   ]
  },
  {
   "cell_type": "markdown",
   "metadata": {},
   "source": [
    "## 5.Calculating the power of the Test"
   ]
  },
  {
   "cell_type": "code",
   "execution_count": 30,
   "metadata": {
    "id": "-yk7MRcIbL1B"
   },
   "outputs": [],
   "source": [
    "import statsmodels.stats.power as smp\n"
   ]
  },
  {
   "cell_type": "code",
   "execution_count": 31,
   "metadata": {
    "id": "-riu6DIdbL1C"
   },
   "outputs": [],
   "source": [
    "chipower = smp.GofChisquarePower()\n"
   ]
  },
  {
   "cell_type": "markdown",
   "metadata": {
    "id": "fPvQU-50bL1D"
   },
   "source": [
    "`effect_size` — is the observed difference between the two options. It is calculated as follows: \n",
    "\n",
    "$$ES = \\sqrt{(p_0 - p_1)^2/p_o}$$\n",
    "\n",
    ", where $p_0$ is conversion in control group and $p_1$ — conversion in test group"
   ]
  },
  {
   "cell_type": "code",
   "execution_count": 32,
   "metadata": {
    "id": "oKd-pOhNbL1H"
   },
   "outputs": [],
   "source": [
    "def chi2_effect_size(p0, p1):\n",
    "    return np.sqrt(((p0 - p1)**2 / p0))"
   ]
  },
  {
   "cell_type": "code",
   "execution_count": 33,
   "metadata": {
    "id": "3Pk5F428bL1J"
   },
   "outputs": [],
   "source": [
    "# conversion in the control group\n",
    "conversion_control = metrics['conversion'].values[0]/100 \n",
    "\n",
    "# conversion in the test group \n",
    "conversion_test = metrics['conversion'].values[1]/100\n",
    "\n",
    "nobs = min(metrics['user_id'])\n"
   ]
  },
  {
   "cell_type": "code",
   "execution_count": 34,
   "metadata": {
    "id": "GvXJIApvbL1K"
   },
   "outputs": [],
   "source": [
    "# conversion in the control group of users from platform = 'mobile'\n",
    "conversion_control_mobile = metrics_mobile['conversion'].values[0]/100\n",
    "\n",
    "#conversion in the test group of users from platform = 'mobile'\n",
    "conversion_test_mobile = metrics_mobile['conversion'].values[1]/100\n",
    "\n",
    "nobs_mobile =  min(metrics_mobile['user_id'])\n"
   ]
  },
  {
   "cell_type": "code",
   "execution_count": 35,
   "metadata": {
    "id": "uCdz925obL1K"
   },
   "outputs": [],
   "source": [
    "# conversion in the control group of users from platform = 'PC'\n",
    "conversion_control_pc = metrics_pc['conversion'].values[0]/100\n",
    "\n",
    "# conversion in the test group of users from platform = 'PC'\n",
    "conversion_test_pc = metrics_pc['conversion'].values[1]/100\n",
    "\n",
    "nobs_pc = min(metrics_pc['user_id'])\n"
   ]
  },
  {
   "cell_type": "code",
   "execution_count": 36,
   "metadata": {
    "id": "iedF3DKybL1L"
   },
   "outputs": [
    {
     "data": {
      "text/plain": [
       "1.0"
      ]
     },
     "execution_count": 36,
     "metadata": {},
     "output_type": "execute_result"
    }
   ],
   "source": [
    "power = chipower.solve_power(effect_size = chi2_effect_size(conversion_control, conversion_test), \n",
    "                                                           nobs = nobs,\n",
    "                                                           alpha = pval, \n",
    "                                                           power = None) \n",
    "power"
   ]
  },
  {
   "cell_type": "code",
   "execution_count": 37,
   "metadata": {
    "id": "N5BqF4yYbL1L"
   },
   "outputs": [
    {
     "data": {
      "text/plain": [
       "0.2840435046099488"
      ]
     },
     "execution_count": 37,
     "metadata": {},
     "output_type": "execute_result"
    }
   ],
   "source": [
    "mobile_power = chipower.solve_power(effect_size = chi2_effect_size(conversion_control_mobile, conversion_test_mobile), \n",
    "                                                           nobs = nobs_mobile,\n",
    "                                                           alpha = pval_mobile, \n",
    "                                                           power = None)\n",
    "mobile_power"
   ]
  },
  {
   "cell_type": "code",
   "execution_count": 38,
   "metadata": {
    "id": "EkzdB9swbL1L"
   },
   "outputs": [
    {
     "data": {
      "text/plain": [
       "0.9999999999999282"
      ]
     },
     "execution_count": 38,
     "metadata": {},
     "output_type": "execute_result"
    }
   ],
   "source": [
    "pc_power = chipower.solve_power(effect_size = chi2_effect_size(conversion_control_pc, conversion_test_pc), \n",
    "                                                           nobs = nobs_pc,\n",
    "                                                           alpha = pval_pc, \n",
    "                                                           power = None)\n",
    "pc_power"
   ]
  },
  {
   "cell_type": "markdown",
   "metadata": {},
   "source": [
    "#### For the \"mobile\" segment, the power is 0.284, meaning that the test is not very sensitive to detect real differences between the test and control groups in this segment. For the \"PC\" segment and total users, power values close to 1 are obtained, indicating that the test is sufficiently sensitive in these segments. However, due to the low power for one of the segments, it is not possible to draw a reliable conclusion based on this test as a whole."
   ]
  },
  {
   "cell_type": "markdown",
   "metadata": {},
   "source": [
    "## 6. Estimation of confidence intervals and indicators of statistical significance for the average cheque using bootstrapped "
   ]
  },
  {
   "cell_type": "code",
   "execution_count": 39,
   "metadata": {},
   "outputs": [],
   "source": [
    "import bootstrapped"
   ]
  },
  {
   "cell_type": "code",
   "execution_count": 40,
   "metadata": {},
   "outputs": [],
   "source": [
    "import bootstrapped.bootstrap as bs\n",
    "import bootstrapped.stats_functions as bs_stats\n",
    "import bootstrapped.compare_functions as bs_compare\n",
    "import numpy as np"
   ]
  },
  {
   "cell_type": "code",
   "execution_count": 41,
   "metadata": {
    "id": "Q4QY9KlEbL1O"
   },
   "outputs": [],
   "source": [
    "## Calculating the avarage check in the control and the test groups for all users\n",
    "test = bakery_data[(bakery_data['test_group'] == 'test')]['purchase_amount'].dropna().values\n",
    "control = bakery_data[(bakery_data['test_group'] == 'control')]['purchase_amount'].dropna().values\n",
    "\n",
    "## Calculating the avarage check in the control and the test groups for users from platform = 'PC'\n",
    "test_pc = bakery_data[(bakery_data['test_group'] == 'test') & (bakery_data['platform'] == 'pc')]['purchase_amount'].dropna().values\n",
    "control_pc = bakery_data[(bakery_data['test_group'] == 'control') & (bakery_data['platform'] == 'pc')]['purchase_amount'].dropna().values\n",
    "\n",
    "## Calculating the avarage check in the control and the test groups for users from platform = 'mobile'\n",
    "test_mobile = bakery_data[(bakery_data['test_group'] == 'test') & (bakery_data['platform'] == 'mobile')]['purchase_amount'].dropna().values\n",
    "control_mobile = bakery_data[(bakery_data['test_group'] == 'control') & (bakery_data['platform'] == 'mobile')]['purchase_amount'].dropna().values\n",
    "\n"
   ]
  },
  {
   "cell_type": "code",
   "execution_count": 42,
   "metadata": {
    "id": "_3d_VHvpbL1P"
   },
   "outputs": [],
   "source": [
    "boot = bs.bootstrap_ab(test = test\n",
    "                            , ctrl = control\n",
    "                            , stat_func = bs_stats.mean\n",
    "                            , compare_func = bs_compare.difference\n",
    "                            , return_distribution=True)"
   ]
  },
  {
   "cell_type": "code",
   "execution_count": 43,
   "metadata": {
    "id": "vfIIQjwVbL1Q"
   },
   "outputs": [],
   "source": [
    "boot_pc = bs.bootstrap_ab(test = test_pc\n",
    "                               , ctrl = control_pc\n",
    "                               , stat_func = bs_stats.mean\n",
    "                               , compare_func = bs_compare.difference\n",
    "                               , return_distribution=True)"
   ]
  },
  {
   "cell_type": "code",
   "execution_count": 44,
   "metadata": {
    "id": "EvRqr4YmbL1R"
   },
   "outputs": [],
   "source": [
    "boot_mobile = bs.bootstrap_ab(test = test_mobile\n",
    "                                   , ctrl = control_mobile\n",
    "                                   , stat_func = bs_stats.mean\n",
    "                                   , compare_func = bs_compare.difference\n",
    "                                   , return_distribution=True)"
   ]
  },
  {
   "cell_type": "markdown",
   "metadata": {},
   "source": [
    "### Have been used percentiles (specifically 2.5% and 97.5%) to define the limits of the 95-% confidence interval range"
   ]
  },
  {
   "cell_type": "code",
   "execution_count": 45,
   "metadata": {
    "id": "gCCAbRnfbL1R"
   },
   "outputs": [],
   "source": [
    "borders = np.percentile(boot, [2.5, 97.5]) \n",
    "\n",
    "borders_pc = np.percentile(boot_pc, [2.5, 97.5])  \n",
    "\n",
    "borders_mobile = np.percentile(boot_mobile, [2.5, 97.5])\n"
   ]
  },
  {
   "cell_type": "markdown",
   "metadata": {},
   "source": [
    "## 7. The building of a histogram of the distribution of values of the average cheque, with the boundaries of the confidence interval marked, and the zero level"
   ]
  },
  {
   "cell_type": "code",
   "execution_count": 47,
   "metadata": {},
   "outputs": [
    {
     "data": {
      "image/png": "[encoded data removed]",
      "text/plain": [
       "<Figure size 1200x600 with 1 Axes>"
      ]
     },
     "metadata": {},
     "output_type": "display_data"
    }
   ],
   "source": [
    "# \n",
    "sns.histplot(boot, label='boot', color='#7B68EE')\n",
    "sns.histplot(boot_pc, label='boot_pc', color='#FFDEAD')\n",
    "sns.histplot(boot_mobile, label='boot_mobile', color='#87CEEB')\n",
    "\n",
    "plt.title('Bootstrap-the distribution of the average difference between cheques')\n",
    "plt.rcParams[\"figure.figsize\"] = (20, 6)\n",
    "plt.vlines(0,  \n",
    "           ymin=0,\n",
    "           ymax=0.003,\n",
    "           linestyles='--',\n",
    "           colors='#E60000')\n",
    "plt.vlines(borders,  \n",
    "           ymin=0,\n",
    "           ymax=500,\n",
    "           linestyles='--',\n",
    "           colors='#66A3FF',\n",
    "           label='95%-confidaence interval')\n",
    "\n",
    "plt.axvline(0, color='#FF0000', linewidth=1.5, label='Zero level')\n",
    "plt.legend()\n",
    "\n",
    "plt.show()"
   ]
  },
  {
   "cell_type": "markdown",
   "metadata": {},
   "source": [
    "## CONCLUSION\n",
    "### According to the results of the A/B test run to compare the change in the average cheque of the two groups in each segment, a statistically significant result was found. Namely, the confidence interval for the difference in mean values does not contain zero, which indicates that the groups do differ in terms of average check. This means that the differences found between the groups cannot be explained by mere random factors and represent real differences in consumer behaviour or the effectiveness of the strategies employed in each group. Thus, it is safe to say that the A/B test conducted has produced important and valid results that confirm the statistical significance of the differences between the groups."
   ]
  }
 ],
 "metadata": {
  "colab": {
   "name": "Skills_Python_4.1_homework.ipynb",
   "provenance": []
  },
  "kernelspec": {
   "display_name": "Python 3 (ipykernel)",
   "language": "python",
   "name": "python3"
  },
  "language_info": {
   "codemirror_mode": {
    "name": "ipython",
    "version": 3
   },
   "file_extension": ".py",
   "mimetype": "text/x-python",
   "name": "python",
   "nbconvert_exporter": "python",
   "pygments_lexer": "ipython3",
   "version": "3.11.3"
  }
 },
 "nbformat": 4,
 "nbformat_minor": 1
}
