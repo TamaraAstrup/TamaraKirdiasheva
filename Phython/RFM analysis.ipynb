{
 "cells": [
  {
   "cell_type": "markdown",
   "id": "2cb188e6",
   "metadata": {},
   "source": [
    "# RFM analysis"
   ]
  },
  {
   "cell_type": "markdown",
   "id": "095d8ac7",
   "metadata": {},
   "source": [
    "#### For this task uses the public dataset: https://www.kaggle.com/olistbr/brazilian-ecommerce in particular the files olist_orders_dataset.csv and olist_order_payments_dataset.csv. "
   ]
  },
  {
   "cell_type": "markdown",
   "id": "b87fdaf8",
   "metadata": {},
   "source": [
    "### The Purpose and Impact of RFM Analysis:\n",
    "\n",
    "The primary goal of RFM analysis is to segment customers based on their behavior and tailor marketing strategies accordingly. By understanding customer segments through RFM analysis, businesses can:\n",
    "\n",
    "Improve Customer Retention: By targeting specific segments with personalized offers and incentives, businesses can improve customer retention rates and reduce churn.\n",
    "\n",
    "Increase Revenue: Targeted marketing strategies based on RFM analysis can lead to increased sales and revenue as customers are more likely to respond to personalized offers.\n",
    "\n",
    "Enhance Customer Loyalty: By recognizing and rewarding loyal customers appropriately, businesses can strengthen customer loyalty and foster long-term relationships.\n",
    "\n",
    "Using RFM analysis effectively enables businesses to engage with customers in a targeted and strategic manner, leading to improved customer relationships and sustainable business growth."
   ]
  },
  {
   "cell_type": "code",
   "execution_count": 39,
   "id": "91cdcdf3",
   "metadata": {},
   "outputs": [],
   "source": [
    "import numpy as np\n",
    "import pandas as pd\n",
    "import matplotlib.pyplot as plt\n",
    "from datetime import date, timedelta"
   ]
  },
  {
   "cell_type": "code",
   "execution_count": 40,
   "id": "0a57793a",
   "metadata": {},
   "outputs": [],
   "source": [
    "df_orders = pd.read_csv('olist_orders_dataset.csv')\n",
    "df_payments = pd.read_csv('olist_order_payments_dataset.csv')"
   ]
  },
  {
   "cell_type": "markdown",
   "id": "134c6ccc",
   "metadata": {},
   "source": [
    "It makes sense to take (order_delivered_carrier_date) as the final purchase date, so let's convert it to 'datetime64'. Create an index 'order_id' for both datasets and connect it by index 'order_id'."
   ]
  },
  {
   "cell_type": "code",
   "execution_count": 41,
   "id": "177428da",
   "metadata": {},
   "outputs": [],
   "source": [
    "df_orders['order_delivered_carrier_date'] = pd.to_datetime(df_orders['order_delivered_carrier_date'])\n",
    "\n",
    "df_payments = df_payments.set_index('order_id')\n",
    "df_orders = df_orders.set_index('order_id')\n",
    "\n",
    "order_payment = pd.merge(df_orders, df_payments, left_index=True, right_index=True)"
   ]
  },
  {
   "cell_type": "code",
   "execution_count": 42,
   "id": "2f8ff087",
   "metadata": {},
   "outputs": [],
   "source": [
    "last_date = order_payment['order_delivered_carrier_date'].max() + timedelta(days=1)\n",
    "rfmTable = order_payment.reset_index().groupby('customer_id').agg({'order_delivered_carrier_date': lambda x: (last_date - x.max()).days,\n",
    "                                                 'order_id': lambda x: len(x), \n",
    "                                                 'payment_value': lambda x: x.sum()})\n",
    "rfmTable.rename(columns={'order_delivered_carrier_date': 'recency', \n",
    "                          'order_id': 'frequency', \n",
    "                          'payment_value': 'monetary_value'}, inplace=True)"
   ]
  },
  {
   "cell_type": "code",
   "execution_count": 43,
   "id": "e2aae823",
   "metadata": {},
   "outputs": [
    {
     "data": {
      "text/html": [
       "<div>\n",
       "<style scoped>\n",
       "    .dataframe tbody tr th:only-of-type {\n",
       "        vertical-align: middle;\n",
       "    }\n",
       "\n",
       "    .dataframe tbody tr th {\n",
       "        vertical-align: top;\n",
       "    }\n",
       "\n",
       "    .dataframe thead th {\n",
       "        text-align: right;\n",
       "    }\n",
       "</style>\n",
       "<table border=\"1\" class=\"dataframe\">\n",
       "  <thead>\n",
       "    <tr style=\"text-align: right;\">\n",
       "      <th></th>\n",
       "      <th>recency</th>\n",
       "      <th>frequency</th>\n",
       "      <th>monetary_value</th>\n",
       "    </tr>\n",
       "    <tr>\n",
       "      <th>customer_id</th>\n",
       "      <th></th>\n",
       "      <th></th>\n",
       "      <th></th>\n",
       "    </tr>\n",
       "  </thead>\n",
       "  <tbody>\n",
       "    <tr>\n",
       "      <th>00012a2ce6f8dcda20d059ce98491703</th>\n",
       "      <td>299.0</td>\n",
       "      <td>1</td>\n",
       "      <td>114.74</td>\n",
       "    </tr>\n",
       "    <tr>\n",
       "      <th>000161a058600d5901f007fab4c27140</th>\n",
       "      <td>420.0</td>\n",
       "      <td>1</td>\n",
       "      <td>67.41</td>\n",
       "    </tr>\n",
       "    <tr>\n",
       "      <th>0001fd6190edaaf884bcaf3d49edf079</th>\n",
       "      <td>560.0</td>\n",
       "      <td>1</td>\n",
       "      <td>195.42</td>\n",
       "    </tr>\n",
       "    <tr>\n",
       "      <th>0002414f95344307404f0ace7a26f1d5</th>\n",
       "      <td>389.0</td>\n",
       "      <td>1</td>\n",
       "      <td>179.35</td>\n",
       "    </tr>\n",
       "    <tr>\n",
       "      <th>000379cdec625522490c315e70c7a9fb</th>\n",
       "      <td>161.0</td>\n",
       "      <td>1</td>\n",
       "      <td>107.01</td>\n",
       "    </tr>\n",
       "  </tbody>\n",
       "</table>\n",
       "</div>"
      ],
      "text/plain": [
       "                                  recency  frequency  monetary_value\n",
       "customer_id                                                         \n",
       "00012a2ce6f8dcda20d059ce98491703    299.0          1          114.74\n",
       "000161a058600d5901f007fab4c27140    420.0          1           67.41\n",
       "0001fd6190edaaf884bcaf3d49edf079    560.0          1          195.42\n",
       "0002414f95344307404f0ace7a26f1d5    389.0          1          179.35\n",
       "000379cdec625522490c315e70c7a9fb    161.0          1          107.01"
      ]
     },
     "execution_count": 43,
     "metadata": {},
     "output_type": "execute_result"
    }
   ],
   "source": [
    "rfmTable.head(5)"
   ]
  },
  {
   "cell_type": "markdown",
   "id": "f920958d",
   "metadata": {},
   "source": [
    "Give score to customers"
   ]
  },
  {
   "cell_type": "code",
   "execution_count": 36,
   "id": "a900c01a",
   "metadata": {},
   "outputs": [
    {
     "name": "stderr",
     "output_type": "stream",
     "text": [
      "C:\\Users\\kirdy\\AppData\\Local\\Temp\\ipykernel_22492\\455184214.py:1: FutureWarning: The default value of numeric_only in DataFrame.quantile is deprecated. In a future version, it will default to False. Select only valid columns or specify the value of numeric_only to silence this warning.\n",
      "  quantiles = rfmTable.quantile(q=[0.20, 0.40, 0.60, 0.80])\n"
     ]
    },
    {
     "name": "stdout",
     "output_type": "stream",
     "text": [
      "                                  recency  frequency  monetary_value  \\\n",
      "customer_id                                                            \n",
      "00012a2ce6f8dcda20d059ce98491703    299.0          1          114.74   \n",
      "000161a058600d5901f007fab4c27140    420.0          1           67.41   \n",
      "0001fd6190edaaf884bcaf3d49edf079    560.0          1          195.42   \n",
      "0002414f95344307404f0ace7a26f1d5    389.0          1          179.35   \n",
      "000379cdec625522490c315e70c7a9fb    161.0          1          107.01   \n",
      "\n",
      "                                  r_quartile  f_quartile  m_quartile RFMScore  \n",
      "customer_id                                                                    \n",
      "00012a2ce6f8dcda20d059ce98491703           4           1           3      413  \n",
      "000161a058600d5901f007fab4c27140           5           1           2      512  \n",
      "0001fd6190edaaf884bcaf3d49edf079           5           1           4      514  \n",
      "0002414f95344307404f0ace7a26f1d5           4           1           4      414  \n",
      "000379cdec625522490c315e70c7a9fb           2           1           3      213  \n"
     ]
    }
   ],
   "source": [
    "quantiles = rfmTable.quantile(q=[0.20, 0.40, 0.60, 0.80])\n",
    "quantiles = quantiles.to_dict()\n",
    "segmented_rfm = rfmTable\n",
    "\n",
    "def RScore(x,p,d):\n",
    "     if x <= d[p][0.20]:\n",
    "        return 1\n",
    "     elif x <= d[p][0.40]:\n",
    "        return 2\n",
    "     elif x <= d[p][0.60]: \n",
    "        return 3\n",
    "     elif x<=d[p][0.80]:\n",
    "        return 4\n",
    "     else:\n",
    "        return 5\n",
    "\n",
    "segmented_rfm['r_quartile'] = segmented_rfm['recency'].apply(RScore, args=('recency',quantiles,))\n",
    "segmented_rfm['f_quartile'] = segmented_rfm['frequency'].apply(RScore, args=('frequency',quantiles,))\n",
    "segmented_rfm['m_quartile'] = segmented_rfm['monetary_value'].apply(RScore, args=('monetary_value',quantiles,))\n",
    "segmented_rfm['RFMScore'] = segmented_rfm.r_quartile.map(str) + segmented_rfm.f_quartile.map(str) + segmented_rfm.m_quartile.map(str)\n",
    "\n",
    "print(segmented_rfm.head())"
   ]
  },
  {
   "cell_type": "code",
   "execution_count": 47,
   "id": "50c4fe94",
   "metadata": {},
   "outputs": [
    {
     "name": "stdout",
     "output_type": "stream",
     "text": [
      "                                  recency  frequency  monetary_value  \\\n",
      "customer_id                                                            \n",
      "00012a2ce6f8dcda20d059ce98491703    299.0          1          114.74   \n",
      "000161a058600d5901f007fab4c27140    420.0          1           67.41   \n",
      "0001fd6190edaaf884bcaf3d49edf079    560.0          1          195.42   \n",
      "0002414f95344307404f0ace7a26f1d5    389.0          1          179.35   \n",
      "000379cdec625522490c315e70c7a9fb    161.0          1          107.01   \n",
      "...                                   ...        ...             ...   \n",
      "fffecc9f79fd8c764f843e9951b11341    165.0          3           81.36   \n",
      "fffeda5b6d849fbd39689bb92087f431    110.0          1           63.13   \n",
      "ffff42319e9b2d713724ae527742af25     89.0          1          214.13   \n",
      "ffffa3172527f765de70084a7e53aae8    368.0          1           45.50   \n",
      "ffffe8b65bbe3087b653a978c870db99      NaN          1           18.37   \n",
      "\n",
      "                                  r_quartile  f_quartile  m_quartile RFMScore  \\\n",
      "customer_id                                                                     \n",
      "00012a2ce6f8dcda20d059ce98491703           4           1           3      413   \n",
      "000161a058600d5901f007fab4c27140           5           1           2      512   \n",
      "0001fd6190edaaf884bcaf3d49edf079           5           1           4      514   \n",
      "0002414f95344307404f0ace7a26f1d5           4           1           4      414   \n",
      "000379cdec625522490c315e70c7a9fb           2           1           3      213   \n",
      "...                                      ...         ...         ...      ...   \n",
      "fffecc9f79fd8c764f843e9951b11341           2           5           2      252   \n",
      "fffeda5b6d849fbd39689bb92087f431           2           1           2      212   \n",
      "ffff42319e9b2d713724ae527742af25           1           1           5      115   \n",
      "ffffa3172527f765de70084a7e53aae8           4           1           1      411   \n",
      "ffffe8b65bbe3087b653a978c870db99           5           1           1      511   \n",
      "\n",
      "                                        Segment  \n",
      "customer_id                                      \n",
      "00012a2ce6f8dcda20d059ce98491703  Recent Buyers  \n",
      "000161a058600d5901f007fab4c27140  Recent Buyers  \n",
      "0001fd6190edaaf884bcaf3d49edf079  Recent Buyers  \n",
      "0002414f95344307404f0ace7a26f1d5  Recent Buyers  \n",
      "000379cdec625522490c315e70c7a9fb          Other  \n",
      "...                                         ...  \n",
      "fffecc9f79fd8c764f843e9951b11341          Other  \n",
      "fffeda5b6d849fbd39689bb92087f431          Other  \n",
      "ffff42319e9b2d713724ae527742af25          Other  \n",
      "ffffa3172527f765de70084a7e53aae8  Recent Buyers  \n",
      "ffffe8b65bbe3087b653a978c870db99  Recent Buyers  \n",
      "\n",
      "[99440 rows x 8 columns]\n"
     ]
    }
   ],
   "source": [
    "def segment_user(row):\n",
    "    if row['r_quartile'] == 5 and row['f_quartile'] == 5 and row['m_quartile'] == 5:\n",
    "        return 'Active and Loyal'\n",
    "    elif row['r_quartile'] == 1 and row['f_quartile'] == 1 and row['m_quartile'] == 1:\n",
    "        return 'Lost Customers'\n",
    "    elif row['r_quartile'] in [1, 2] and row['f_quartile'] in [4, 5] and row['m_quartile'] in [4, 5]:\n",
    "        return 'At Risk of Churn'\n",
    "    elif row['r_quartile'] in [4, 5] and row['f_quartile'] == 1 and row['m_quartile'] in [1, 2, 3, 4, 5]:\n",
    "        return 'Recent Buyers'\n",
    "    else:\n",
    "        return 'Other'\n",
    "\n",
    "segmented_rfm['Segment'] = segmented_rfm.apply(segment_user, axis=1)\n",
    "\n",
    "print(segmented_rfm)\n"
   ]
  },
  {
   "cell_type": "code",
   "execution_count": 52,
   "id": "7d3fc0b5",
   "metadata": {},
   "outputs": [
    {
     "data": {
      "image/png": "[encoded data removed]",
      "text/plain": [
       "<Figure size 640x480 with 1 Axes>"
      ]
     },
     "metadata": {},
     "output_type": "display_data"
    }
   ],
   "source": [
    "segment_counts = segmented_rfm['Segment'].value_counts()\n",
    "ax = segment_counts.plot(kind='bar', color='blue')\n",
    "plt.title('The number of users in each segment')\n",
    "plt.xlabel('Segment')\n",
    "plt.ylabel('Number of Users')\n",
    "\n",
    "# Добавление аннотаций к каждому столбцу\n",
    "for i in ax.patches:\n",
    "    ax.text(i.get_x() + i.get_width() / 2, i.get_height(), str(i.get_height()), ha='center', va='bottom')\n",
    "\n",
    "plt.show()"
   ]
  },
  {
   "cell_type": "markdown",
   "id": "203e26c1",
   "metadata": {},
   "source": [
    "### RFM Analysis Interpretation by Segment:\n",
    "\n",
    "#### R=5, F=5, M=5: These customers have paid frequently, a lot, and recently. They are the most loyal and active users. Targeted actions could involve exclusive offers, personalized rewards, or early access to new products to maintain their loyalty.\n",
    "\n",
    "#### R=1, F=1, M=1: Customers in this segment pay little, rarely, and it has been a long time since their last purchase. They are most likely lost clients. It might not be cost-effective to try to re-engage them if the cost of reacquisition exceeds the expected profit.\n",
    "\n",
    "#### R=1/2, F=4/5, M=4/5: These are loyal users who are on the verge of leaving. Offering them bonuses, discounts, or personalized incentives could help in winning them back and retaining their loyalty.\n",
    "\n",
    "#### R=4/5, F=1, M=1/2/3/4/5: Customers in this segment have recently made a purchase. Encouraging them to buy more through targeted promotions, cross-selling, or upselling strategies could help increase their engagement and lifetime value."
   ]
  }
 ],
 "metadata": {
  "kernelspec": {
   "display_name": "Python 3 (ipykernel)",
   "language": "python",
   "name": "python3"
  },
  "language_info": {
   "codemirror_mode": {
    "name": "ipython",
    "version": 3
   },
   "file_extension": ".py",
   "mimetype": "text/x-python",
   "name": "python",
   "nbconvert_exporter": "python",
   "pygments_lexer": "ipython3",
   "version": "3.11.3"
  }
 },
 "nbformat": 4,
 "nbformat_minor": 5
}
